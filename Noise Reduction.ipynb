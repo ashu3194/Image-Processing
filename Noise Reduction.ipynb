{
 "cells": [
  {
   "cell_type": "code",
   "execution_count": 1,
   "id": "crazy-edmonton",
   "metadata": {},
   "outputs": [],
   "source": [
    "from scipy import misc\n",
    "from skimage.morphology import *\n",
    "from PIL import Image\n",
    "import numpy as np\n",
    "from matplotlib import pyplot as plt"
   ]
  },
  {
   "cell_type": "code",
   "execution_count": 2,
   "id": "gorgeous-judge",
   "metadata": {},
   "outputs": [],
   "source": [
    "def denoise(im):\n",
    "    inp=np.copy(im)\n",
    "    se=square(7)\n",
    "    opening_image=opening(inp,se)\n",
    "    closing_image=closing(opening_image, se)\n",
    "    \n",
    "    return closing_image"
   ]
  },
  {
   "cell_type": "code",
   "execution_count": 3,
   "id": "prostate-grill",
   "metadata": {},
   "outputs": [],
   "source": [
    "im=Image.open('C:\\\\Users\\\\Ashutosh Shukla\\\\Downloads\\\\Image_a3.tif')"
   ]
  },
  {
   "cell_type": "code",
   "execution_count": 4,
   "id": "prerequisite-sugar",
   "metadata": {},
   "outputs": [],
   "source": [
    "imo=denoise(im)"
   ]
  },
  {
   "cell_type": "code",
   "execution_count": null,
   "id": "restricted-pressing",
   "metadata": {},
   "outputs": [],
   "source": [
    "#Estimation of noise\n",
    "def signaltonoise(Arr, axis=0, ddof=0):\n",
    "    Arr = np.asanyarray(Arr)\n",
    "    me = Arr.mean(axis)                      #mean\n",
    "    sd = Arr.std(axis=axis, ddof=ddof)       #standard deviation\n",
    "    return np.where(sd == 0, 0, me/sd)"
   ]
  }
 ],
 "metadata": {
  "kernelspec": {
   "display_name": "Python 3",
   "language": "python",
   "name": "python3"
  },
  "language_info": {
   "codemirror_mode": {
    "name": "ipython",
    "version": 3
   },
   "file_extension": ".py",
   "mimetype": "text/x-python",
   "name": "python",
   "nbconvert_exporter": "python",
   "pygments_lexer": "ipython3",
   "version": "3.8.5"
  }
 },
 "nbformat": 4,
 "nbformat_minor": 5
}
