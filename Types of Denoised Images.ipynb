{
 "cells": [
  {
   "cell_type": "code",
   "execution_count": 1,
   "id": "internal-treaty",
   "metadata": {},
   "outputs": [],
   "source": [
    "import numpy as np\n",
    "import cv2\n",
    "from matplotlib import pyplot as plt"
   ]
  },
  {
   "cell_type": "code",
   "execution_count": 2,
   "id": "minus-negative",
   "metadata": {},
   "outputs": [],
   "source": [
    "img = cv2.imread('C:\\\\Users\\\\Ashutosh Shukla\\\\Downloads\\\\original_noisy_image.tif')"
   ]
  },
  {
   "cell_type": "code",
   "execution_count": 3,
   "id": "rough-raising",
   "metadata": {},
   "outputs": [],
   "source": [
    "kernel = np.ones((3,3), np.float32)/9"
   ]
  },
  {
   "cell_type": "code",
   "execution_count": 10,
   "id": "dated-cancellation",
   "metadata": {},
   "outputs": [],
   "source": [
    "filt_2D = cv2.filter2D(img, -1, kernel)"
   ]
  },
  {
   "cell_type": "code",
   "execution_count": 11,
   "id": "induced-pilot",
   "metadata": {},
   "outputs": [],
   "source": [
    "gaussian= cv2.fastNlMeansDenoising(img,None,10,7,21)"
   ]
  },
  {
   "cell_type": "code",
   "execution_count": 13,
   "id": "natural-kinase",
   "metadata": {},
   "outputs": [],
   "source": [
    "cv2.imshow(\"Original\", img)\n",
    "cv2.imshow(\"2D custom filter\", gaussian)\n",
    "cv2.imshow(\"Gaussian\", filt_2D)\n",
    "cv2.waitKey(0)\n",
    "cv2.destroyAllWindows()"
   ]
  },
  {
   "cell_type": "code",
   "execution_count": null,
   "id": "administrative-aurora",
   "metadata": {},
   "outputs": [],
   "source": []
  }
 ],
 "metadata": {
  "kernelspec": {
   "display_name": "Python 3",
   "language": "python",
   "name": "python3"
  },
  "language_info": {
   "codemirror_mode": {
    "name": "ipython",
    "version": 3
   },
   "file_extension": ".py",
   "mimetype": "text/x-python",
   "name": "python",
   "nbconvert_exporter": "python",
   "pygments_lexer": "ipython3",
   "version": "3.8.5"
  }
 },
 "nbformat": 4,
 "nbformat_minor": 5
}
